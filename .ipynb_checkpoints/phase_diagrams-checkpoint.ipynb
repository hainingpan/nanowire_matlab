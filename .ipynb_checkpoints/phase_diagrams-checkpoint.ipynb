{
 "cells": [
  {
   "cell_type": "code",
   "execution_count": null,
   "metadata": {},
   "outputs": [],
   "source": [
    "from copy import copy\n",
    "from functools import partial\n",
    "import math\n",
    "from types import SimpleNamespace\n",
    "import warnings\n",
    "\n",
    "import adaptive\n",
    "import cloudpickle as pickle\n",
    "import kwant\n",
    "import matplotlib\n",
    "import matplotlib.pyplot as plt\n",
    "from matplotlib.colors import LogNorm\n",
    "import numpy as np\n",
    "import scipy\n",
    "from scipy import sparse\n",
    "\n",
    "import quasi_majoranas_functions as qm\n",
    "\n",
    "adaptive.notebook_extension()\n",
    "matplotlib.rc('font', **{'family': 'sans-serif', 'sans-serif' :['Helvetica']})\n",
    "matplotlib.rc('text', usetex=True)\n",
    "warnings.filterwarnings(\"ignore\")"
   ]
  },
  {
   "cell_type": "code",
   "execution_count": null,
   "metadata": {},
   "outputs": [],
   "source": [
    "def lowest_eigvals(eig_list):\n",
    "    cleanedList = [eig for eig in eig_list if (math.isnan(eig) == False)]\n",
    "    sortedList = sorted(set([round(x, 8) for x in abs(np.array(cleanedList))]))\n",
    "    minEig = sortedList[0] \n",
    "    secminEig = sortedList[1]\n",
    "    return minEig, secminEig\n",
    "\n",
    "\n",
    "def phase_mapping(p, pars):\n",
    "    pars.Ez, pars.mu = p\n",
    "    ham = syst.hamiltonian_submatrix(params=(pars.__dict__), sparse=True)\n",
    "    eigvals = sparse.linalg.eigsh(ham, k=30, sigma=0, which='LM')[0]\n",
    "    lowest_eigs = lowest_eigvals(eigvals)\n",
    "    return lowest_eigs[0]\n",
    "\n",
    "\n",
    "def loss(ip):\n",
    "    from adaptive.learner.learner2D import deviations, areas\n",
    "    A = np.sqrt(areas(ip))\n",
    "    dev = deviations(ip)[0]\n",
    "    return A * dev + 0.1*A**2"
   ]
  },
  {
   "cell_type": "markdown",
   "metadata": {},
   "source": [
    "## Set constants and system parameters"
   ]
  },
  {
   "cell_type": "code",
   "execution_count": null,
   "metadata": {},
   "outputs": [],
   "source": [
    "ham_str = \"\"\"(A0 * k_x**2 - mu + phi(x, x0, sigma, V))*kron(sigma_z, sigma_0) -\n",
    "alpha*k_x*kron(sigma_z, sigma_y) + Ez*kron(sigma_0,sigma_x) +\n",
    "Delta(x, x0, Delta_0)*kron(sigma_x,sigma_0)\"\"\"\n",
    "\n",
    "ham_str_nl = \"\"\"(A0 * k_x**2 - mu_L + phi(0, x0, sigma, V))*kron(sigma_z, sigma_0) -\n",
    "alpha*k_x*kron(sigma_z, sigma_y) + Ez*kron(sigma_0,sigma_x)\"\"\"\n",
    "\n",
    "ham_str_scl = \"\"\"(A0 * k_x**2  - mu_L + phi(L_n + L_sc, x0, sigma, V))*kron(sigma_z, sigma_0) -\n",
    "alpha*k_x*kron(sigma_z, sigma_y) + Ez*kron(sigma_0,sigma_x) + Delta_0*kron(sigma_x,sigma_0)\"\"\""
   ]
  },
  {
   "cell_type": "code",
   "execution_count": null,
   "metadata": {},
   "outputs": [],
   "source": [
    "hbar = 1.055e-34 \n",
    "m = 9.109e-31 \n",
    "eV = 1.6023e-19\n",
    "m_eff = 0.015 * m \n",
    "\n",
    "A0 = hbar**2 / (2 * m_eff * (1e-9)**2 * 1e-3 * eV)\n",
    "T = 1"
   ]
  },
  {
   "cell_type": "code",
   "execution_count": null,
   "metadata": {},
   "outputs": [],
   "source": [
    "a = 10\n",
    "\n",
    "L_n = 0\n",
    "L_sc = 3000\n",
    "x0 = L_n # place center of barrier at the NS interface\n",
    "sigma = 300\n",
    "\n",
    "mu = 3\n",
    "mu_L = 10\n",
    "Ez = 0\n",
    "alpha = 50 # in meVnm\n",
    "Delta_0 = 0.5\n",
    "V = 10\n",
    "theta = 0\n",
    "\n",
    "default_pars = SimpleNamespace(\n",
    "    mu=mu, Delta=qm.delta_func, Delta_0=Delta_0, Ez=Ez, alpha=alpha, V=V,\n",
    "    x0=x0, phi=qm.potential, L_n=L_n, L_sc=L_sc, sigma=sigma, A0=A0, T=T, mu_L=mu_L\n",
    ")\n",
    "\n",
    "syst = qm.make_NS_junction(L_n, L_sc, ham_str, ham_str_nl, ham_str_scl,\n",
    "                           a, add_lead=False, plot_sys=True)\n",
    "site_pos = np.array([site.pos for site in syst.sites])\n",
    "ham_dim = len(site_pos)"
   ]
  },
  {
   "cell_type": "code",
   "execution_count": null,
   "metadata": {},
   "outputs": [],
   "source": [
    "x_vals = np.linspace(0, L_n+L_sc, 1000)\n",
    "\n",
    "delta_vals = [qm.delta_func(x, L_n, Delta_0) for x in x_vals]\n",
    "pot_vals = [qm.potential(x, x0, sigma, V) for x in x_vals]\n",
    "\n",
    "fig = plt.figure(figsize=(8, 2))\n",
    "ax1 = fig.add_subplot(1, 2, 1)\n",
    "ax1.plot(x_vals, delta_vals, lw=2)\n",
    "ax2 = fig.add_subplot(1, 2, 2)\n",
    "ax2.plot(x_vals, pot_vals, lw=2)\n",
    "plt.show()"
   ]
  },
  {
   "cell_type": "markdown",
   "metadata": {},
   "source": [
    "# Phase diagrams for varying $\\sigma$ and $\\alpha$"
   ]
  },
  {
   "cell_type": "code",
   "execution_count": null,
   "metadata": {},
   "outputs": [],
   "source": [
    "Ez_min = 0\n",
    "Ez_max = 4\n",
    "mu_min = -2\n",
    "mu_max = 8\n",
    "\n",
    "x = np.linspace(-0.5, 0.5, 201)\n",
    "y = np.linspace(-.5, .5, 201)\n",
    "Ez_range = np.linspace(Ez_min, Ez_max, 201)\n",
    "mu_range = np.linspace(mu_min, mu_max, 201)\n",
    "\n",
    "bounds = [Ez_min, Ez_max, mu_min, mu_max]\n",
    "\n",
    "param_vals = [(100, 10), (40, 10), (100, 200), (40, 200)]"
   ]
  },
  {
   "cell_type": "code",
   "execution_count": null,
   "metadata": {},
   "outputs": [],
   "source": [
    "learners = []\n",
    "for params in param_vals:\n",
    "    pars = copy(default_pars)\n",
    "    pars.alpha, pars.sigma = params\n",
    "    f = partial(phase_mapping, pars=pars)\n",
    "    learner = adaptive.Learner2D(f, bounds=[(Ez_min, Ez_max), (mu_min, mu_max)],\n",
    "                                 loss_per_triangle=loss)\n",
    "    learners.append(learner)"
   ]
  },
  {
   "cell_type": "code",
   "execution_count": null,
   "metadata": {},
   "outputs": [],
   "source": [
    "learner = adaptive.BalancingLearner(learners)\n",
    "runner = adaptive.BlockingRunner(learner, goal=lambda l: l.loss() < 0.001)"
   ]
  },
  {
   "cell_type": "code",
   "execution_count": null,
   "metadata": {},
   "outputs": [],
   "source": [
    "# Rasterize the data from the learners\n",
    "\n",
    "data = {}\n",
    "\n",
    "for (alpha, sigma), l in zip(param_vals, learner.learners):\n",
    "    key = f'{alpha}_{sigma}'\n",
    "    ip = l.ip()\n",
    "    z = ip(x[:, None], y[None, :]).squeeze()\n",
    "    z[z == 0.0] = 1e-5 # Replace zeros because they cannot be plotted in a log plot\n",
    "    data[key] = z"
   ]
  },
  {
   "cell_type": "code",
   "execution_count": null,
   "metadata": {},
   "outputs": [],
   "source": [
    "fig = plt.figure(figsize=(10, 8))\n",
    "for i, params in enumerate(param_vals):\n",
    "    key = str(params[0]) + '_' + str(params[1])\n",
    "    z = data[key]\n",
    "    ax = fig.add_subplot(2, 2, i+1)\n",
    "    plt.imshow(z.T[::-1], extent=[Ez_min, Ez_max, mu_min, mu_max], aspect='auto', \n",
    "               norm=LogNorm(vmin=0.01, vmax=1), interpolation='nearest')\n",
    "    ax.plot([np.sqrt(Delta_0**2 + mu**2) for mu in mu_range], mu_range, 'r', lw=2)\n",
    "    ax.set_xlim(Ez_min, Ez_max)\n",
    "    plt.colorbar().set_label(label=r'$E$',size=20)\n",
    "    ax.tick_params(labelsize=20)\n",
    "    ax.set_xlabel('$E_{\\mathrm{Z}}$', fontsize=15)\n",
    "    ax.set_ylabel('$\\mu$', fontsize=20)\n",
    "    \n",
    "plt.tight_layout()\n",
    "plt.show()"
   ]
  },
  {
   "cell_type": "markdown",
   "metadata": {},
   "source": [
    "## Save data"
   ]
  },
  {
   "cell_type": "code",
   "execution_count": null,
   "metadata": {},
   "outputs": [],
   "source": [
    "# Write\n",
    "with open('data/phase_learner.p', 'wb') as f:\n",
    "    pickle.dump(data, f)\n",
    "    pickle.dump(param_vals, f)\n",
    "    pickle.dump(mu_range, f)\n",
    "    pickle.dump(bounds, f)\n",
    "    pickle.dump(Delta_0, f)"
   ]
  },
  {
   "cell_type": "code",
   "execution_count": null,
   "metadata": {},
   "outputs": [],
   "source": [
    "# Load\n",
    "with open('data/phase_learner.p', 'rb') as f:\n",
    "    data = pickle.load(f)\n",
    "    param_vals = pickle.load(f)\n",
    "    mu_range = pickle.load(f)\n",
    "    bounds = pickle.load(f)\n",
    "    Delta_0 = pickle.load(f)"
   ]
  }
 ],
 "metadata": {
  "kernelspec": {
   "display_name": "Python 3",
   "language": "python",
   "name": "python3"
  },
  "language_info": {
   "codemirror_mode": {
    "name": "ipython",
    "version": 3
   },
   "file_extension": ".py",
   "mimetype": "text/x-python",
   "name": "python",
   "nbconvert_exporter": "python",
   "pygments_lexer": "ipython3",
   "version": "3.6.9"
  }
 },
 "nbformat": 4,
 "nbformat_minor": 2
}
