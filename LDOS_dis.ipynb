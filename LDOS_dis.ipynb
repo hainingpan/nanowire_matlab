{
 "cells": [
  {
   "cell_type": "code",
   "execution_count": 186,
   "metadata": {},
   "outputs": [],
   "source": [
    "import numpy as np\n",
    "import tinyarray\n",
    "import matplotlib.pyplot as plt\n",
    "from scipy.sparse import spdiags\n",
    "from scipy.sparse import eye\n",
    "from scipy.sparse import kron\n",
    "from scipy.sparse.linalg import inv\n",
    "# from scipy.linalg import inv\n",
    "from scipy.sparse import csr_matrix\n",
    "import adaptive\n",
    "from functools import partial\n",
    "from scipy.interpolate import griddata\n"
   ]
  },
  {
   "cell_type": "code",
   "execution_count": 3,
   "metadata": {},
   "outputs": [],
   "source": [
    "s0 = tinyarray.array([[1, 0], [0, 1]]);\n",
    "sx = tinyarray.array([[0, 1], [1, 0]]);\n",
    "sy = tinyarray.array([[0, -1j], [1j, 0]]);\n",
    "sz = tinyarray.array([[1, 0], [0, -1]]);"
   ]
  },
  {
   "cell_type": "code",
   "execution_count": 162,
   "metadata": {},
   "outputs": [],
   "source": [
    "def hdis(a,mu,delta,vz,alpha_R,dim,vimp):\n",
    "    t=25/a**2\n",
    "    alpha=alpha_R/(2*a)\n",
    "    band11sm=spdiags(np.vstack([np.ones(dim),np.ones(dim)]),np.array([-1,1]),dim,dim,format = 'csr')\n",
    "    band1m1sm=spdiags(np.vstack([np.ones(dim),-np.ones(dim)]),np.array([-1,1]),dim,dim,format = 'csr')\n",
    "    eyesm=eye(dim)\n",
    "    mulist=mu*np.ones(dim)-vimp\n",
    "    diagmulist=spdiags(mulist,0,dim,dim)\n",
    "    return kron(sz,(kron(eye(2),-t*band11sm+(2*t)*eyesm-diagmulist)+kron(sy,1j*alpha*band1m1sm)))\\\n",
    "    +kron(eye(2),kron(sz,vz*eyesm))+kron(sx,kron(eye(2),delta*eyesm))"
   ]
  },
  {
   "cell_type": "code",
   "execution_count": 163,
   "metadata": {},
   "outputs": [
    {
     "data": {
      "text/plain": [
       "array([[ 49. +0.j, -25. +0.j,   0. +0.j,  -2.5+0.j,   0.2+0.j,   0. +0.j,\n",
       "          0. +0.j,   0. +0.j],\n",
       "       [-25. +0.j,  49. +0.j,   2.5+0.j,   0. +0.j,   0. +0.j,   0.2+0.j,\n",
       "          0. +0.j,   0. +0.j],\n",
       "       [  0. +0.j,   2.5+0.j,  49. +0.j, -25. +0.j,   0. +0.j,   0. +0.j,\n",
       "          0.2+0.j,   0. +0.j],\n",
       "       [ -2.5+0.j,   0. +0.j, -25. +0.j,  49. +0.j,   0. +0.j,   0. +0.j,\n",
       "          0. +0.j,   0.2+0.j],\n",
       "       [  0.2+0.j,   0. +0.j,   0. +0.j,   0. +0.j, -49. +0.j,  25. +0.j,\n",
       "          0. +0.j,   2.5+0.j],\n",
       "       [  0. +0.j,   0.2+0.j,   0. +0.j,   0. +0.j,  25. +0.j, -49. +0.j,\n",
       "         -2.5+0.j,   0. +0.j],\n",
       "       [  0. +0.j,   0. +0.j,   0.2+0.j,   0. +0.j,   0. +0.j,  -2.5+0.j,\n",
       "        -49. +0.j,  25. +0.j],\n",
       "       [  0. +0.j,   0. +0.j,   0. +0.j,   0.2+0.j,   2.5+0.j,   0. +0.j,\n",
       "         25. +0.j, -49. +0.j]])"
      ]
     },
     "execution_count": 163,
     "metadata": {},
     "output_type": "execute_result"
    }
   ],
   "source": [
    "hdis(1,1,0.2,0,5,2,0).toarray()"
   ]
  },
  {
   "cell_type": "code",
   "execution_count": 173,
   "metadata": {},
   "outputs": [],
   "source": [
    "def ldosall_dis(a,mu,Delta,Vz,alpha_R,mulist,dim,omega,delta):\n",
    "    ham=hdis(a,mu,Delta,Vz,alpha_R,dim,mulist);\n",
    "    hh=csr_matrix((omega+1j*delta)*eye(4*dim)-ham)\n",
    "    G=inv(hh)\n",
    "    Gdiag=(G).diagonal()\n",
    "    return -np.sum((np.reshape(Gdiag,(4,-1))),0).imag/np.pi"
   ]
  },
  {
   "cell_type": "code",
   "execution_count": 256,
   "metadata": {},
   "outputs": [
    {
     "name": "stdout",
     "output_type": "stream",
     "text": [
      "CPU times: user 688 ms, sys: 0 ns, total: 688 ms\n",
      "Wall time: 700 ms\n"
     ]
    }
   ],
   "source": [
    "%%time\n",
    "z=ldosall_dis(1,1,0.2,0,5,0,300,0,1e-3)"
   ]
  },
  {
   "cell_type": "code",
   "execution_count": 175,
   "metadata": {},
   "outputs": [],
   "source": [
    "def LDOS_dis(p,a,mu,Delta,alpha_R,mulist,dim,delta):\n",
    "    Vz,energy=p\n",
    "    z=ldosall_dis(a,mu,Delta,Vz,alpha_R,mulist,dim,energy,delta)\n",
    "    return np.array([z.mean(),z[0],z[int(dim/2)],z[-1]])"
   ]
  },
  {
   "cell_type": "code",
   "execution_count": 257,
   "metadata": {},
   "outputs": [
    {
     "name": "stdout",
     "output_type": "stream",
     "text": [
      "CPU times: user 672 ms, sys: 15.6 ms, total: 688 ms\n",
      "Wall time: 683 ms\n"
     ]
    },
    {
     "data": {
      "text/plain": [
       "array([5.66884378e-04, 5.53226965e-05, 5.67094080e-04, 5.53226965e-05])"
      ]
     },
     "execution_count": 257,
     "metadata": {},
     "output_type": "execute_result"
    }
   ],
   "source": [
    "%%time\n",
    "LDOS_dis((0,0),1,1,.2,5,0,300,1e-3)"
   ]
  },
  {
   "cell_type": "code",
   "execution_count": 251,
   "metadata": {},
   "outputs": [],
   "source": [
    "learner = adaptive.Learner2D(partial(LDOS_dis,a=1,mu=1,Delta=0.2,alpha_R=5,mulist=0,dim=300,delta=1e-3),\\\n",
    "                             bounds=[(0., 2.), (-0.3, 0.3)])"
   ]
  },
  {
   "cell_type": "code",
   "execution_count": 252,
   "metadata": {},
   "outputs": [
    {
     "name": "stdout",
     "output_type": "stream",
     "text": [
      "CPU times: user 1min 36s, sys: 469 ms, total: 1min 36s\n",
      "Wall time: 1min 38s\n"
     ]
    }
   ],
   "source": [
    "%%time\n",
    "running = adaptive.runner.simple(learner, goal=lambda l: l.loss() < 0.1)"
   ]
  },
  {
   "cell_type": "code",
   "execution_count": 245,
   "metadata": {},
   "outputs": [
    {
     "name": "stdout",
     "output_type": "stream",
     "text": [
      "CPU times: user 2.31 s, sys: 1.89 s, total: 4.2 s\n",
      "Wall time: 40.6 s\n"
     ]
    }
   ],
   "source": [
    "%%time\n",
    "running = adaptive.BlockingRunner(learner, goal=lambda l: l.loss() < 0.1)"
   ]
  },
  {
   "cell_type": "code",
   "execution_count": 253,
   "metadata": {},
   "outputs": [
    {
     "name": "stderr",
     "output_type": "stream",
     "text": [
      "/home/jake/anaconda3/lib/python3.7/site-packages/ipykernel_launcher.py:1: VisibleDeprecationWarning: Creating an ndarray from ragged nested sequences (which is a list-or-tuple of lists-or-tuples-or ndarrays with different lengths or shapes) is deprecated. If you meant to do this, you must specify 'dtype=object' when creating the ndarray\n",
      "  \"\"\"Entry point for launching an IPython kernel.\n"
     ]
    }
   ],
   "source": [
    "dd=np.array(list(learner.data.items()))\n",
    "dz=dd[:,1]\n",
    "dx=np.empty(dd.shape[0])\n",
    "dy=np.empty(dd.shape[0])\n",
    "for i in range(dd.shape[0]):\n",
    "    dx[i],dy[i]=dd[i,0]\n",
    "dz=np.vstack(dz)"
   ]
  },
  {
   "cell_type": "code",
   "execution_count": 254,
   "metadata": {},
   "outputs": [
    {
     "data": {
      "text/plain": [
       "(143,)"
      ]
     },
     "execution_count": 254,
     "metadata": {},
     "output_type": "execute_result"
    }
   ],
   "source": [
    "dx.shape"
   ]
  },
  {
   "cell_type": "code",
   "execution_count": 258,
   "metadata": {},
   "outputs": [
    {
     "data": {
      "text/plain": [
       "0.6853146853146853"
      ]
     },
     "execution_count": 258,
     "metadata": {},
     "output_type": "execute_result"
    }
   ],
   "source": [
    "98/143"
   ]
  },
  {
   "cell_type": "code",
   "execution_count": 248,
   "metadata": {},
   "outputs": [
    {
     "data": {
      "text/plain": [
       "<matplotlib.collections.PathCollection at 0x7f192424e110>"
      ]
     },
     "execution_count": 248,
     "metadata": {},
     "output_type": "execute_result"
    },
    {
     "data": {
      "image/png": "[encoded data removed]",
      "text/plain": [
       "<Figure size 432x288 with 1 Axes>"
      ]
     },
     "metadata": {
      "needs_background": "light"
     },
     "output_type": "display_data"
    }
   ],
   "source": [
    "plt.scatter(dx,dy,c=dz[:,0])"
   ]
  },
  {
   "cell_type": "code",
   "execution_count": 249,
   "metadata": {},
   "outputs": [],
   "source": [
    "dxx, dyy = np.meshgrid(np.linspace(0,2,100),np.linspace(-.3,.3,100))\n",
    "dzz = griddata((dx,dy),dz[:,0],(dxx,dyy), method='linear')"
   ]
  },
  {
   "cell_type": "code",
   "execution_count": 250,
   "metadata": {},
   "outputs": [
    {
     "name": "stderr",
     "output_type": "stream",
     "text": [
      "/home/jake/anaconda3/lib/python3.7/site-packages/ipykernel_launcher.py:1: MatplotlibDeprecationWarning: shading='flat' when X and Y have the same dimensions as C is deprecated since 3.3.  Either specify the corners of the quadrilaterals with X and Y, or pass shading='auto', 'nearest' or 'gouraud', or set rcParams['pcolor.shading'].  This will become an error two minor releases later.\n",
      "  \"\"\"Entry point for launching an IPython kernel.\n"
     ]
    },
    {
     "data": {
      "text/plain": [
       "<matplotlib.collections.QuadMesh at 0x7f192411ead0>"
      ]
     },
     "execution_count": 250,
     "metadata": {},
     "output_type": "execute_result"
    },
    {
     "data": {
      "image/png": "[encoded data removed]",
      "text/plain": [
       "<Figure size 432x288 with 1 Axes>"
      ]
     },
     "metadata": {
      "needs_background": "light"
     },
     "output_type": "display_data"
    }
   ],
   "source": [
    "plt.pcolormesh(dxx,dyy,dzz)"
   ]
  },
  {
   "cell_type": "code",
   "execution_count": 294,
   "metadata": {},
   "outputs": [],
   "source": [
    "z0=np.loadtxt('loss0.005m1.0D0.2muVar0.0L100_s.dat')"
   ]
  },
  {
   "cell_type": "code",
   "execution_count": 295,
   "metadata": {},
   "outputs": [
    {
     "data": {
      "text/plain": [
       "(29750, 6)"
      ]
     },
     "execution_count": 295,
     "metadata": {},
     "output_type": "execute_result"
    }
   ],
   "source": [
    "z0.shape"
   ]
  },
  {
   "cell_type": "code",
   "execution_count": 291,
   "metadata": {},
   "outputs": [],
   "source": [
    "randlist=np.loadtxt('randlist.dat')"
   ]
  },
  {
   "cell_type": "code",
   "execution_count": 292,
   "metadata": {},
   "outputs": [
    {
     "data": {
      "text/plain": [
       "0.2012568084812267"
      ]
     },
     "execution_count": 292,
     "metadata": {},
     "output_type": "execute_result"
    }
   ],
   "source": [
    "randlist.std()"
   ]
  },
  {
   "cell_type": "code",
   "execution_count": 293,
   "metadata": {},
   "outputs": [
    {
     "data": {
      "text/plain": [
       "[<matplotlib.lines.Line2D at 0x7f19551ad1d0>]"
      ]
     },
     "execution_count": 293,
     "metadata": {},
     "output_type": "execute_result"
    },
    {
     "data": {
      "image/png": "[encoded data removed]",
      "text/plain": [
       "<Figure size 432x288 with 1 Axes>"
      ]
     },
     "metadata": {
      "needs_background": "light"
     },
     "output_type": "display_data"
    }
   ],
   "source": [
    "plt.plot(randlist,'.')"
   ]
  },
  {
   "cell_type": "code",
   "execution_count": 123,
   "metadata": {},
   "outputs": [],
   "source": [
    "z0=ldosall_dis(1,1,0.2,0,5,0,3,0,1e-3)"
   ]
  },
  {
   "cell_type": "code",
   "execution_count": 127,
   "metadata": {},
   "outputs": [],
   "source": [
    "z0,z1=ldosall_dis(1,1,0.2,0,5,0,3,0,1e-3)"
   ]
  },
  {
   "cell_type": "code",
   "execution_count": 133,
   "metadata": {},
   "outputs": [
    {
     "data": {
      "text/plain": [
       "array([[-0.03171935-1.62112766e-06j, -0.04303087-2.82576914e-06j,\n",
       "        -0.03171935-1.62112766e-06j],\n",
       "       [-0.03171935-1.62112766e-06j, -0.04303087-2.82576914e-06j,\n",
       "        -0.03171935-1.62112766e-06j],\n",
       "       [ 0.03171935-1.62112766e-06j,  0.04303087-2.82576914e-06j,\n",
       "         0.03171935-1.62112766e-06j],\n",
       "       [ 0.03171935-1.62112766e-06j,  0.04303087-2.82576914e-06j,\n",
       "         0.03171935-1.62112766e-06j]])"
      ]
     },
     "execution_count": 133,
     "metadata": {},
     "output_type": "execute_result"
    }
   ],
   "source": [
    "z0"
   ]
  },
  {
   "cell_type": "code",
   "execution_count": 132,
   "metadata": {},
   "outputs": [
    {
     "data": {
      "text/plain": [
       "array([[-0.03171935-1.62112766e-06j, -0.04303087-2.82576914e-06j,\n",
       "        -0.03171935-1.62112766e-06j, -0.03171935-1.62112766e-06j],\n",
       "       [-0.04303087-2.82576914e-06j, -0.03171935-1.62112766e-06j,\n",
       "         0.03171935-1.62112766e-06j,  0.04303087-2.82576914e-06j],\n",
       "       [ 0.03171935-1.62112766e-06j,  0.03171935-1.62112766e-06j,\n",
       "         0.04303087-2.82576914e-06j,  0.03171935-1.62112766e-06j]])"
      ]
     },
     "execution_count": 132,
     "metadata": {},
     "output_type": "execute_result"
    }
   ],
   "source": [
    "z1"
   ]
  },
  {
   "cell_type": "code",
   "execution_count": 6,
   "metadata": {},
   "outputs": [
    {
     "data": {
      "text/plain": [
       "25.0"
      ]
     },
     "execution_count": 6,
     "metadata": {},
     "output_type": "execute_result"
    }
   ],
   "source": [
    "    return kron(sz,(kron(eye(2),-t*band11sm+(2*t)*eyesm-diagmulist)+kron(sy,1j*alpha*band1m1sm)))\\\n",
    "    +kron(eye(2),kron(sz,vz*eyesm))+kron(sx,kron(eye(2),delta*eyesm))"
   ]
  },
  {
   "cell_type": "code",
   "execution_count": 15,
   "metadata": {},
   "outputs": [
    {
     "data": {
      "text/plain": [
       "array([[1., 1., 1., 1., 1., 1., 1., 1., 1., 1.],\n",
       "       [1., 1., 1., 1., 1., 1., 1., 1., 1., 1.]])"
      ]
     },
     "execution_count": 15,
     "metadata": {},
     "output_type": "execute_result"
    }
   ],
   "source": [
    "np.vstack([np.ones(10),np.ones(10)])"
   ]
  },
  {
   "cell_type": "code",
   "execution_count": 26,
   "metadata": {},
   "outputs": [
    {
     "data": {
      "text/plain": [
       "<4x4 sparse matrix of type '<class 'numpy.float64'>'\n",
       "\twith 4 stored elements (1 diagonals) in DIAgonal format>"
      ]
     },
     "execution_count": 26,
     "metadata": {},
     "output_type": "execute_result"
    }
   ],
   "source": [
    "eye(4)"
   ]
  },
  {
   "cell_type": "code",
   "execution_count": 28,
   "metadata": {},
   "outputs": [
    {
     "data": {
      "text/plain": [
       "array([1., 1.])"
      ]
     },
     "execution_count": 28,
     "metadata": {},
     "output_type": "execute_result"
    }
   ],
   "source": [
    "np.ones(2).T"
   ]
  },
  {
   "cell_type": "code",
   "execution_count": 35,
   "metadata": {},
   "outputs": [
    {
     "data": {
      "text/plain": [
       "<2x2 sparse matrix of type '<class 'numpy.float64'>'\n",
       "\twith 2 stored elements (1 diagonals) in DIAgonal format>"
      ]
     },
     "execution_count": 35,
     "metadata": {},
     "output_type": "execute_result"
    }
   ],
   "source": [
    "eye(2)"
   ]
  },
  {
   "cell_type": "code",
   "execution_count": 70,
   "metadata": {},
   "outputs": [
    {
     "data": {
      "text/plain": [
       "<8x8 sparse matrix of type '<class 'numpy.float64'>'\n",
       "\twith 32 stored elements (blocksize = 4x4) in Block Sparse Row format>"
      ]
     },
     "execution_count": 70,
     "metadata": {},
     "output_type": "execute_result"
    }
   ],
   "source": [
    "kron(eye(2),np.ones((4,4)))"
   ]
  },
  {
   "cell_type": "code",
   "execution_count": 61,
   "metadata": {},
   "outputs": [
    {
     "data": {
      "text/plain": [
       "array([[1., 1., 1., 1., 1., 1., 1., 1., 1., 1.],\n",
       "       [1., 1., 1., 1., 1., 1., 1., 1., 1., 1.],\n",
       "       [1., 1., 1., 1., 1., 1., 1., 1., 1., 1.],\n",
       "       [1., 1., 1., 1., 1., 1., 1., 1., 1., 1.],\n",
       "       [1., 1., 1., 1., 1., 1., 1., 1., 1., 1.],\n",
       "       [1., 1., 1., 1., 1., 1., 1., 1., 1., 1.],\n",
       "       [1., 1., 1., 1., 1., 1., 1., 1., 1., 1.],\n",
       "       [1., 1., 1., 1., 1., 1., 1., 1., 1., 1.],\n",
       "       [1., 1., 1., 1., 1., 1., 1., 1., 1., 1.],\n",
       "       [1., 1., 1., 1., 1., 1., 1., 1., 1., 1.]])"
      ]
     },
     "execution_count": 61,
     "metadata": {},
     "output_type": "execute_result"
    }
   ],
   "source": [
    "np.ones((10,10))"
   ]
  },
  {
   "cell_type": "code",
   "execution_count": null,
   "metadata": {},
   "outputs": [],
   "source": []
  }
 ],
 "metadata": {
  "kernelspec": {
   "display_name": "Python 3",
   "language": "python",
   "name": "python3"
  },
  "language_info": {
   "codemirror_mode": {
    "name": "ipython",
    "version": 3
   },
   "file_extension": ".py",
   "mimetype": "text/x-python",
   "name": "python",
   "nbconvert_exporter": "python",
   "pygments_lexer": "ipython3",
   "version": "3.6.9"
  }
 },
 "nbformat": 4,
 "nbformat_minor": 2
}
