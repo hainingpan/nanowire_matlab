{
 "cells": [
  {
   "cell_type": "code",
   "execution_count": 1,
   "metadata": {},
   "outputs": [
    {
     "name": "stderr",
     "output_type": "stream",
     "text": [
      "C:\\Users\\hnpan\\Anaconda3\\envs\\py36\\lib\\site-packages\\dask\\config.py:168: YAMLLoadWarning: calling yaml.load() without Loader=... is deprecated, as the default Loader is unsafe. Please read https://msg.pyyaml.org/load for full details.\n",
      "  data = yaml.load(f.read()) or {}\n",
      "C:\\Users\\hnpan\\Anaconda3\\envs\\py36\\lib\\site-packages\\distributed\\config.py:20: YAMLLoadWarning: calling yaml.load() without Loader=... is deprecated, as the default Loader is unsafe. Please read https://msg.pyyaml.org/load for full details.\n",
      "  defaults = yaml.load(f)\n",
      "C:\\Users\\hnpan\\Anaconda3\\envs\\py36\\lib\\site-packages\\distributed\\bokeh\\core.py:57: UserWarning: \n",
      "Port 8787 is already in use. \n",
      "Perhaps you already have a cluster running?\n",
      "Hosting the diagnostics dashboard on a random port instead.\n",
      "  warnings.warn('\\n' + msg)\n"
     ]
    }
   ],
   "source": [
    "import matlab.engine\n",
    "import adaptive\n",
    "import numpy as np\n",
    "import matplotlib.pyplot as plt\n"
   ]
  },
  {
   "cell_type": "code",
   "execution_count": 17,
   "metadata": {},
   "outputs": [
    {
     "data": {
      "text/plain": [
       "{}"
      ]
     },
     "execution_count": 17,
     "metadata": {},
     "output_type": "execute_result"
    },
    {
     "name": "stderr",
     "output_type": "stream",
     "text": [
      "Task exception was never retrieved\n",
      "future: <Task finished coro=<AsyncRunner._run() done, defined at C:\\Users\\hnpan\\Anaconda3\\envs\\py36\\lib\\site-packages\\adaptive\\runner.py:545> exception=MatlabExecutionError(\"Undefined function or variable '__getstate__'.\\n\",)>\n",
      "Traceback (most recent call last):\n",
      "  File \"C:\\Users\\hnpan\\Anaconda3\\envs\\py36\\lib\\site-packages\\distributed\\worker.py\", line 2729, in dumps_function\n",
      "    result = cache[func]\n",
      "KeyError: <function <lambda> at 0x000001F1BF811840>\n",
      "\n",
      "During handling of the above exception, another exception occurred:\n",
      "\n",
      "Traceback (most recent call last):\n",
      "  File \"C:\\Users\\hnpan\\Anaconda3\\envs\\py36\\lib\\site-packages\\distributed\\protocol\\pickle.py\", line 38, in dumps\n",
      "    result = pickle.dumps(x, protocol=pickle.HIGHEST_PROTOCOL)\n",
      "_pickle.PicklingError: Can't pickle <function <lambda> at 0x000001F1BF811840>: attribute lookup <lambda> on __main__ failed\n",
      "\n",
      "During handling of the above exception, another exception occurred:\n",
      "\n",
      "Traceback (most recent call last):\n",
      "  File \"C:\\Users\\hnpan\\Anaconda3\\envs\\py36\\lib\\site-packages\\adaptive\\runner.py\", line 553, in _run\n",
      "    futures = self._get_futures()\n",
      "  File \"C:\\Users\\hnpan\\Anaconda3\\envs\\py36\\lib\\site-packages\\adaptive\\runner.py\", line 226, in _get_futures\n",
      "    fut = self._submit(x)\n",
      "  File \"C:\\Users\\hnpan\\Anaconda3\\envs\\py36\\lib\\site-packages\\adaptive\\runner.py\", line 487, in _submit\n",
      "    return ioloop.run_in_executor(self.executor, self.learner.function, x)\n",
      "  File \"C:\\Users\\hnpan\\Anaconda3\\envs\\py36\\lib\\asyncio\\base_events.py\", line 655, in run_in_executor\n",
      "    return futures.wrap_future(executor.submit(func, *args), loop=self)\n",
      "  File \"C:\\Users\\hnpan\\Anaconda3\\envs\\py36\\lib\\site-packages\\distributed\\cfexecutor.py\", line 91, in submit\n",
      "    future = self._client.submit(fn, *args, **merge(self._kwargs, kwargs))\n",
      "  File \"C:\\Users\\hnpan\\Anaconda3\\envs\\py36\\lib\\site-packages\\distributed\\client.py\", line 1279, in submit\n",
      "    actors=actor)\n",
      "  File \"C:\\Users\\hnpan\\Anaconda3\\envs\\py36\\lib\\site-packages\\distributed\\client.py\", line 2261, in _graph_to_futures\n",
      "    'tasks': valmap(dumps_task, dsk3),\n",
      "  File \"cytoolz/dicttoolz.pyx\", line 165, in cytoolz.dicttoolz.valmap\n",
      "  File \"cytoolz/dicttoolz.pyx\", line 190, in cytoolz.dicttoolz.valmap\n",
      "  File \"C:\\Users\\hnpan\\Anaconda3\\envs\\py36\\lib\\site-packages\\distributed\\worker.py\", line 2767, in dumps_task\n",
      "    return {'function': dumps_function(task[0]),\n",
      "  File \"C:\\Users\\hnpan\\Anaconda3\\envs\\py36\\lib\\site-packages\\distributed\\worker.py\", line 2731, in dumps_function\n",
      "    result = pickle.dumps(func)\n",
      "  File \"C:\\Users\\hnpan\\Anaconda3\\envs\\py36\\lib\\site-packages\\distributed\\protocol\\pickle.py\", line 51, in dumps\n",
      "    return cloudpickle.dumps(x, protocol=pickle.HIGHEST_PROTOCOL)\n",
      "  File \"C:\\Users\\hnpan\\Anaconda3\\envs\\py36\\lib\\site-packages\\cloudpickle\\cloudpickle.py\", line 952, in dumps\n",
      "    cp.dump(obj)\n",
      "  File \"C:\\Users\\hnpan\\Anaconda3\\envs\\py36\\lib\\site-packages\\cloudpickle\\cloudpickle.py\", line 267, in dump\n",
      "    return Pickler.dump(self, obj)\n",
      "  File \"C:\\Users\\hnpan\\Anaconda3\\envs\\py36\\lib\\pickle.py\", line 409, in dump\n",
      "    self.save(obj)\n",
      "  File \"C:\\Users\\hnpan\\Anaconda3\\envs\\py36\\lib\\pickle.py\", line 476, in save\n",
      "    f(self, obj) # Call unbound method with explicit self\n",
      "  File \"C:\\Users\\hnpan\\Anaconda3\\envs\\py36\\lib\\site-packages\\cloudpickle\\cloudpickle.py\", line 395, in save_function\n",
      "    self.save_function_tuple(obj)\n",
      "  File \"C:\\Users\\hnpan\\Anaconda3\\envs\\py36\\lib\\site-packages\\cloudpickle\\cloudpickle.py\", line 594, in save_function_tuple\n",
      "    save(state)\n",
      "  File \"C:\\Users\\hnpan\\Anaconda3\\envs\\py36\\lib\\pickle.py\", line 476, in save\n",
      "    f(self, obj) # Call unbound method with explicit self\n",
      "  File \"C:\\Users\\hnpan\\Anaconda3\\envs\\py36\\lib\\pickle.py\", line 821, in save_dict\n",
      "    self._batch_setitems(obj.items())\n",
      "  File \"C:\\Users\\hnpan\\Anaconda3\\envs\\py36\\lib\\pickle.py\", line 847, in _batch_setitems\n",
      "    save(v)\n",
      "  File \"C:\\Users\\hnpan\\Anaconda3\\envs\\py36\\lib\\pickle.py\", line 476, in save\n",
      "    f(self, obj) # Call unbound method with explicit self\n",
      "  File \"C:\\Users\\hnpan\\Anaconda3\\envs\\py36\\lib\\pickle.py\", line 821, in save_dict\n",
      "    self._batch_setitems(obj.items())\n",
      "  File \"C:\\Users\\hnpan\\Anaconda3\\envs\\py36\\lib\\pickle.py\", line 852, in _batch_setitems\n",
      "    save(v)\n",
      "  File \"C:\\Users\\hnpan\\Anaconda3\\envs\\py36\\lib\\pickle.py\", line 496, in save\n",
      "    rv = reduce(self.proto)\n",
      "  File \"C:\\Users\\hnpan\\Anaconda3\\envs\\py36\\lib\\site-packages\\matlab\\engine\\matlabengine.py\", line 71, in __call__\n",
      "    _stderr, feval=True).result()\n",
      "  File \"C:\\Users\\hnpan\\Anaconda3\\envs\\py36\\lib\\site-packages\\matlab\\engine\\futureresult.py\", line 67, in result\n",
      "    return self.__future.result(timeout)\n",
      "  File \"C:\\Users\\hnpan\\Anaconda3\\envs\\py36\\lib\\site-packages\\matlab\\engine\\fevalfuture.py\", line 82, in result\n",
      "    self._result = pythonengine.getFEvalResult(self._future,self._nargout, None, out=self._out, err=self._err)\n",
      "matlab.engine.MatlabExecutionError: Undefined function or variable '__getstate__'.\n",
      "\n"
     ]
    }
   ],
   "source": [
    "eng = matlab.engine.start_matlab()\n",
    "def goal(learner):\n",
    "    return learner.loss() < 1e-2\n",
    "func2=lambda x:eng.test(x)\n",
    "learner=adaptive.Learner1D(function=func2,bounds=(-.3,.3))\n",
    "runner=adaptive.Runner(learner,goal)\n",
    "runner.task.done()\n",
    "learner.data"
   ]
  },
  {
   "cell_type": "code",
   "execution_count": 8,
   "metadata": {},
   "outputs": [
    {
     "ename": "TypeError",
     "evalue": "<lambda>() got an unexpected keyword argument 'backgroud'",
     "output_type": "error",
     "traceback": [
      "\u001b[1;31m---------------------------------------------------------------------------\u001b[0m",
      "\u001b[1;31mTypeError\u001b[0m                                 Traceback (most recent call last)",
      "\u001b[1;32m<ipython-input-8-368331fdba84>\u001b[0m in \u001b[0;36m<module>\u001b[1;34m\u001b[0m\n\u001b[1;32m----> 1\u001b[1;33m \u001b[0mfunc2\u001b[0m\u001b[1;33m(\u001b[0m\u001b[1;36m3.\u001b[0m\u001b[1;33m,\u001b[0m\u001b[0mbackgroud\u001b[0m\u001b[1;33m=\u001b[0m\u001b[1;32mTrue\u001b[0m\u001b[1;33m)\u001b[0m\u001b[1;33m\u001b[0m\u001b[1;33m\u001b[0m\u001b[0m\n\u001b[0m",
      "\u001b[1;31mTypeError\u001b[0m: <lambda>() got an unexpected keyword argument 'backgroud'"
     ]
    }
   ],
   "source": [
    "func2(3.,backgroud=True)"
   ]
  },
  {
   "cell_type": "code",
   "execution_count": 14,
   "metadata": {},
   "outputs": [],
   "source": [
    "ff=eng.test(2.,background=False)"
   ]
  },
  {
   "cell_type": "code",
   "execution_count": 16,
   "metadata": {},
   "outputs": [
    {
     "data": {
      "text/plain": [
       "4.0"
      ]
     },
     "execution_count": 16,
     "metadata": {},
     "output_type": "execute_result"
    }
   ],
   "source": [
    "ff"
   ]
  },
  {
   "cell_type": "code",
   "execution_count": null,
   "metadata": {},
   "outputs": [],
   "source": []
  }
 ],
 "metadata": {
  "kernelspec": {
   "display_name": "Python 3",
   "language": "python",
   "name": "python3"
  },
  "language_info": {
   "codemirror_mode": {
    "name": "ipython",
    "version": 3
   },
   "file_extension": ".py",
   "mimetype": "text/x-python",
   "name": "python",
   "nbconvert_exporter": "python",
   "pygments_lexer": "ipython3",
   "version": "3.6.8"
  }
 },
 "nbformat": 4,
 "nbformat_minor": 2
}
